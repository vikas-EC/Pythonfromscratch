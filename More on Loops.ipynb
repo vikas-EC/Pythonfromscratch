{
 "cells": [
  {
   "cell_type": "markdown",
   "metadata": {},
   "source": [
    "for i in x:  \n",
    "    //x is a sequence  \n",
    "    //x is a collection of multiple things at one place  \n",
    "    //i iterates through each of the following in x sequence  "
   ]
  },
  {
   "cell_type": "code",
   "execution_count": 4,
   "metadata": {},
   "outputs": [
    {
     "name": "stdout",
     "output_type": "stream",
     "text": [
      "Vikas Halliker"
     ]
    }
   ],
   "source": [
    "Say_my_name = 'Vikas Halliker'\n",
    "for i in Say_my_name:\n",
    "    print(i,end = '')\n",
    "    #print(i)"
   ]
  },
  {
   "cell_type": "markdown",
   "metadata": {},
   "source": [
    "range ( start, stop, stride)  \n"
   ]
  },
  {
   "cell_type": "code",
   "execution_count": 10,
   "metadata": {},
   "outputs": [
    {
     "name": "stdout",
     "output_type": "stream",
     "text": [
      "9\n",
      "0\n",
      "3\n",
      "6\n",
      "9\n"
     ]
    }
   ],
   "source": [
    "#printing the numbers\n",
    "n =  int(input())\n",
    "for i in range(0,n+1,3):\n",
    "    print(i)"
   ]
  },
  {
   "cell_type": "markdown",
   "metadata": {},
   "source": [
    "#BY DEFAULT number is start is zero and stride is one"
   ]
  },
  {
   "cell_type": "code",
   "execution_count": 11,
   "metadata": {},
   "outputs": [
    {
     "name": "stdout",
     "output_type": "stream",
     "text": [
      "5\n",
      "0\n",
      "1\n",
      "2\n",
      "3\n",
      "4\n",
      "5\n"
     ]
    }
   ],
   "source": [
    "#printing the numbers\n",
    "n =  int(input())\n",
    "for i in range(n+1):\n",
    "    print(i)"
   ]
  },
  {
   "cell_type": "markdown",
   "metadata": {},
   "source": [
    "Note: if start is greater than stop it will not print anything"
   ]
  },
  {
   "cell_type": "markdown",
   "metadata": {},
   "source": [
    "arguments 3 : start stop stride  \n",
    "arguments 2 : start stop 1  \n",
    "argument 1:   1    stop 1  "
   ]
  },
  {
   "cell_type": "code",
   "execution_count": 15,
   "metadata": {},
   "outputs": [
    {
     "name": "stdout",
     "output_type": "stream",
     "text": [
      "5\n",
      "5\n",
      "4\n",
      "3\n",
      "2\n"
     ]
    }
   ],
   "source": [
    "#printing the numbers\n",
    "n =  int(input())\n",
    "for i in range(n,1,-1):\n",
    "    print(i)"
   ]
  },
  {
   "cell_type": "code",
   "execution_count": 23,
   "metadata": {},
   "outputs": [
    {
     "name": "stdout",
     "output_type": "stream",
     "text": [
      "4\n",
      "1111\n",
      "000\n",
      "11\n",
      "0\n"
     ]
    }
   ],
   "source": [
    "n = int(input())\n",
    "i=1\n",
    "k=1\n",
    "while i<=n:\n",
    "    j=1\n",
    "    while j<=n-i+1:\n",
    "        if k==1:\n",
    "            print('1',end='')\n",
    "            #k=k-1\n",
    "        elif k==0:\n",
    "            print('0',end='')\n",
    "            #k=k+1\n",
    "        j=j+1\n",
    "    if k==1:\n",
    "        k=k-1\n",
    "    elif k==0:\n",
    "        k=k+1\n",
    "    print()\n",
    "    i=i+1"
   ]
  },
  {
   "cell_type": "code",
   "execution_count": 27,
   "metadata": {},
   "outputs": [
    {
     "name": "stdout",
     "output_type": "stream",
     "text": [
      "1\n",
      "19\n",
      "1\n",
      "4\n",
      "7\n",
      "10\n",
      "13\n",
      "16\n",
      "19\n"
     ]
    }
   ],
   "source": [
    "a = int(input())\n",
    "b= int(input())\n",
    "for i in range (a,b+1,3):\n",
    "    print(i)"
   ]
  },
  {
   "cell_type": "code",
   "execution_count": 29,
   "metadata": {},
   "outputs": [
    {
     "name": "stdout",
     "output_type": "stream",
     "text": [
      "4\n",
      "99\n",
      "6\n",
      "9\n",
      "12\n",
      "15\n",
      "18\n",
      "21\n",
      "24\n",
      "27\n",
      "30\n",
      "33\n",
      "36\n",
      "39\n",
      "42\n",
      "45\n",
      "48\n",
      "51\n",
      "54\n",
      "57\n",
      "60\n",
      "63\n",
      "66\n",
      "69\n",
      "72\n",
      "75\n",
      "78\n",
      "81\n",
      "84\n",
      "87\n",
      "90\n",
      "93\n",
      "96\n",
      "99\n"
     ]
    }
   ],
   "source": [
    "a = int(input())\n",
    "b= int(input())\n",
    "for i in range (a,b+1,1):\n",
    "    if (i%3==0):\n",
    "        print(i)"
   ]
  },
  {
   "cell_type": "code",
   "execution_count": 30,
   "metadata": {},
   "outputs": [
    {
     "name": "stdout",
     "output_type": "stream",
     "text": [
      "34\n",
      "99\n",
      "36\n",
      "39\n",
      "42\n",
      "45\n",
      "48\n",
      "51\n",
      "54\n",
      "57\n",
      "60\n",
      "63\n",
      "66\n",
      "69\n",
      "72\n",
      "75\n",
      "78\n",
      "81\n",
      "84\n",
      "87\n",
      "90\n",
      "93\n",
      "96\n",
      "99\n"
     ]
    }
   ],
   "source": [
    "a = int(input())\n",
    "b= int(input())\n",
    "if a%3==0:\n",
    "    s=a\n",
    "elif a%3==1:\n",
    "    s=a+1\n",
    "else:\n",
    "    s=a+2\n",
    "    \n",
    "for i in range (s,b+1,1):\n",
    "    if (i%3==0):\n",
    "        print(i)"
   ]
  },
  {
   "cell_type": "code",
   "execution_count": 34,
   "metadata": {},
   "outputs": [
    {
     "name": "stdout",
     "output_type": "stream",
     "text": [
      "11\n",
      "Is  a prime number\n"
     ]
    }
   ],
   "source": [
    "n = int(input())\n",
    "flag = True\n",
    "for d in range (2,n,1):\n",
    "    if n%d==0:\n",
    "        flag = False\n",
    "if flag:\n",
    "    print('Is  a prime number')\n",
    "else:\n",
    "    print('Is not a prime number')"
   ]
  },
  {
   "cell_type": "code",
   "execution_count": 54,
   "metadata": {},
   "outputs": [
    {
     "name": "stdout",
     "output_type": "stream",
     "text": [
      "7\n",
      "4\n",
      "3\n",
      "   *\n",
      "  ***\n",
      " *****\n",
      "*******\n",
      " *****\n",
      "  ***\n",
      "   *\n"
     ]
    }
   ],
   "source": [
    "n=int(input())\n",
    "n1=(n+1)//2\n",
    "n2=n1-1\n",
    "print(n1)\n",
    "print(n2)\n",
    "i=1\n",
    "j=1\n",
    "k=1\n",
    "m=1\n",
    "while i<=n1:\n",
    "    j=i\n",
    "    k=1\n",
    "    \n",
    "    while j<n1:\n",
    "        print(' ',end='')\n",
    "        j = j+1\n",
    "    while k<=m:\n",
    "        print('*',end='')\n",
    "        k = k+1\n",
    "    m=m+2\n",
    "    i=i+1\n",
    "    print()\n",
    "i=1\n",
    "j=1\n",
    "k=1\n",
    "m=1\n",
    "y=5   \n",
    "while i<=n2:\n",
    "    j=i\n",
    "    k=1\n",
    "    x=1\n",
    "    while k<=i:\n",
    "        print(' ',end='')\n",
    "        k= k+1\n",
    "    while x<=y:\n",
    "        print('*',end='')\n",
    "        x= x+1\n",
    "    m=m+2\n",
    "    i=i+1\n",
    "    y=y-2\n",
    "    print()"
   ]
  },
  {
   "cell_type": "code",
   "execution_count": 77,
   "metadata": {},
   "outputs": [
    {
     "name": "stdout",
     "output_type": "stream",
     "text": [
      "0\n",
      "100\n",
      "20\n",
      "0   -17\n",
      "20   -6\n",
      "40   4\n",
      "60   15\n",
      "80   26\n",
      "100   37\n"
     ]
    }
   ],
   "source": [
    "a=int(input())\n",
    "b=int(input())\n",
    "c=int(input())\n",
    "x=1\n",
    "while a<=b:\n",
    "    x =int((((a-32)*5)/9))\n",
    "    print(a,' ',x)\n",
    "    a=a+c"
   ]
  },
  {
   "cell_type": "code",
   "execution_count": 7,
   "metadata": {},
   "outputs": [
    {
     "name": "stdout",
     "output_type": "stream",
     "text": [
      "4\n",
      "   1\n",
      "  232\n",
      " 34543\n",
      "4567654\n"
     ]
    }
   ],
   "source": [
    "n = int(input())\n",
    "for i in range(1,n+1,1):\n",
    "    for j in range(n-i):\n",
    "        print(' ',end='')\n",
    "    for j in range(i,2*i,1):\n",
    "        print(j,end='')\n",
    "    for j in range(2*i-2,i-1,-1):\n",
    "        print(j,end='')\n",
    "    print()\n",
    "    i=i+1"
   ]
  },
  {
   "cell_type": "code",
   "execution_count": 1,
   "metadata": {},
   "outputs": [
    {
     "name": "stdout",
     "output_type": "stream",
     "text": [
      "7\n",
      "1234567\n",
      " 234567\n",
      "  34567\n",
      "   4567\n",
      "    567\n",
      "     67\n",
      "      7\n",
      "     67\n",
      "    567\n",
      "   4567\n",
      "  34567\n",
      " 234567\n",
      "1234567\n"
     ]
    }
   ],
   "source": [
    "## Read input as specified in the question.\n",
    "## Print output as specified in the question.\n",
    "n=int(input())\n",
    "for i in range(0,n):\n",
    "    j=0\n",
    "    while j<i:\n",
    "        print(\" \",end=\"\")\n",
    "        j=j+1\n",
    "    while j<n:\n",
    "        print(j+1,end=\"\")\n",
    "        j=j+1\n",
    "        \n",
    "    print()\n",
    "    \n",
    "for i in range(n-2,-1,-1):\n",
    "    j=0\n",
    "    while j<i:\n",
    "        print(\" \",end=\"\")\n",
    "        j=j+1\n",
    "    while j<n:\n",
    "        print(j+1,end=\"\")\n",
    "        j=j+1\n",
    "        \n",
    "    print()"
   ]
  },
  {
   "cell_type": "markdown",
   "metadata": {},
   "source": [
    "Break keyword"
   ]
  },
  {
   "cell_type": "code",
   "execution_count": 11,
   "metadata": {},
   "outputs": [
    {
     "name": "stdout",
     "output_type": "stream",
     "text": [
      "9\n",
      "2\n",
      "3\n",
      "5\n",
      "7\n"
     ]
    }
   ],
   "source": [
    "n=int(input())\n",
    "k=2\n",
    "while k<n:\n",
    "    j=2\n",
    "    flag = True\n",
    "    while j<=k//2:\n",
    "        if k%j==0:\n",
    "            #rint(k)\n",
    "            flag=False\n",
    "            break\n",
    "        j=j+1\n",
    "    if(flag):\n",
    "        print(k)\n",
    "    k=k+1"
   ]
  },
  {
   "cell_type": "markdown",
   "metadata": {},
   "source": [
    "# Else Keyword"
   ]
  },
  {
   "cell_type": "markdown",
   "metadata": {},
   "source": [
    "while:  \n",
    "  code block  \n",
    "else:  \n",
    "  code block  "
   ]
  },
  {
   "cell_type": "markdown",
   "metadata": {},
   "source": [
    "when while is false the else code will print"
   ]
  },
  {
   "cell_type": "code",
   "execution_count": 3,
   "metadata": {},
   "outputs": [
    {
     "name": "stdout",
     "output_type": "stream",
     "text": [
      "1\n",
      "2\n",
      "3\n",
      "4\n",
      "5\n",
      "6\n",
      "7\n",
      "8\n",
      "9\n",
      "This will also print once\n"
     ]
    }
   ],
   "source": [
    "i=1\n",
    "while i<10:\n",
    "    print(i)\n",
    "    i=i+1\n",
    "else:\n",
    "    print('This will also print once')"
   ]
  },
  {
   "cell_type": "code",
   "execution_count": 5,
   "metadata": {},
   "outputs": [
    {
     "name": "stdout",
     "output_type": "stream",
     "text": [
      "1\n",
      "2\n",
      "3\n",
      "4\n",
      "5\n",
      "6\n",
      "7\n",
      "8\n",
      "9\n",
      "This is also print once\n"
     ]
    }
   ],
   "source": [
    "for i in range(1,10,1):\n",
    "    print(i)\n",
    "else:\n",
    "    print('This is also print once')"
   ]
  },
  {
   "cell_type": "markdown",
   "metadata": {},
   "source": [
    "Else code will not execute in case of break of statement"
   ]
  },
  {
   "cell_type": "code",
   "execution_count": 8,
   "metadata": {},
   "outputs": [
    {
     "name": "stdout",
     "output_type": "stream",
     "text": [
      "8\n"
     ]
    }
   ],
   "source": [
    "n=int(input())\n",
    "for d in range(2,n,1):\n",
    "    if n%d==0:\n",
    "        break\n",
    "else:\n",
    "   print('Prime number')"
   ]
  },
  {
   "cell_type": "markdown",
   "metadata": {},
   "source": [
    "# Continue keyword"
   ]
  },
  {
   "cell_type": "code",
   "execution_count": 23,
   "metadata": {},
   "outputs": [
    {
     "name": "stdout",
     "output_type": "stream",
     "text": [
      "100\n",
      "2\n",
      "2\n",
      "4\n",
      "4\n",
      "6\n",
      "6\n",
      "8\n",
      "8\n",
      "10\n",
      "10\n",
      "12\n",
      "12\n",
      "14\n",
      "16\n",
      "16\n",
      "18\n",
      "18\n",
      "20\n",
      "20\n",
      "22\n",
      "22\n",
      "24\n",
      "24\n",
      "26\n",
      "26\n",
      "28\n",
      "30\n",
      "30\n",
      "32\n",
      "32\n",
      "34\n",
      "34\n",
      "36\n",
      "36\n",
      "38\n",
      "38\n",
      "40\n",
      "40\n",
      "42\n",
      "44\n",
      "44\n",
      "46\n",
      "46\n",
      "48\n",
      "48\n",
      "50\n",
      "50\n",
      "52\n",
      "52\n",
      "54\n",
      "54\n",
      "56\n",
      "58\n",
      "58\n",
      "60\n",
      "60\n",
      "62\n",
      "62\n",
      "64\n",
      "64\n",
      "66\n",
      "66\n",
      "68\n",
      "68\n",
      "70\n",
      "72\n",
      "72\n",
      "74\n",
      "74\n",
      "76\n",
      "76\n",
      "78\n",
      "78\n",
      "80\n",
      "80\n",
      "82\n",
      "82\n",
      "84\n",
      "86\n",
      "86\n",
      "88\n",
      "88\n",
      "90\n",
      "90\n",
      "92\n",
      "92\n",
      "94\n",
      "94\n",
      "96\n",
      "96\n",
      "98\n",
      "100\n",
      "100\n"
     ]
    }
   ],
   "source": [
    "n=int(input())\n",
    "for i in range (2,n+1,2):\n",
    "    print(i)\n",
    "    if i%7==0:\n",
    "        continue\n",
    "    print(i)"
   ]
  },
  {
   "cell_type": "code",
   "execution_count": 24,
   "metadata": {},
   "outputs": [
    {
     "name": "stdout",
     "output_type": "stream",
     "text": [
      "5\n",
      "3\n"
     ]
    }
   ],
   "source": [
    "## Print output as specified in the question.\n",
    "n = int(input())\n",
    "n1=n//2 +1\n",
    "print(n1)\n",
    "n2=n1-1"
   ]
  },
  {
   "cell_type": "code",
   "execution_count": 60,
   "metadata": {},
   "outputs": [
    {
     "name": "stdout",
     "output_type": "stream",
     "text": [
      "5\n",
      "11**\n",
      "****\n"
     ]
    }
   ],
   "source": [
    "n = int(input())\n",
    "n1=n//2 +1\n",
    "#print(n1)\n",
    "n2=n1-1\n",
    "i=1\n",
    "while i<=n1:\n",
    "    for i in range (1, n1-i+1, 1):\n",
    "        print(\"1\",end='')\n",
    "    for i in range (1, 2*i - 1, 1 ):\n",
    "        print('*',end='')\n",
    "    i=i+1\n",
    "    print()"
   ]
  },
  {
   "cell_type": "code",
   "execution_count": 8,
   "metadata": {},
   "outputs": [
    {
     "name": "stdout",
     "output_type": "stream",
     "text": [
      "5\n",
      "  *\n",
      " ***\n",
      "*****\n",
      " ***\n",
      "  **\n"
     ]
    }
   ],
   "source": [
    "n = int(input())\n",
    "n1=n//2 +1\n",
    "#print(n1)\n",
    "n2=n1-1\n",
    "j=1\n",
    "while j<=n1:\n",
    "    for i in range (1, n1-j+1, 1):\n",
    "        print(\" \",end='')\n",
    "    for i in range (1, 2*j , 1 ):\n",
    "        print('*',end='')\n",
    "    j=j+1\n",
    "    print()\n",
    "j=1\n",
    "\n",
    "while j<=n2:\n",
    "    \n",
    "    for i in range (1, j+1, 1):\n",
    "        print(\" \",end='')\n",
    "    for i in range (1,2*n2-j+1, 1 ):\n",
    "        print('*',end='')\n",
    "\n",
    "    j=j+1\n",
    "    print()"
   ]
  },
  {
   "cell_type": "code",
   "execution_count": 9,
   "metadata": {},
   "outputs": [
    {
     "name": "stdout",
     "output_type": "stream",
     "text": [
      "5\n",
      "  *\n",
      " ***\n",
      "*****\n",
      " ***\n",
      "  **\n"
     ]
    }
   ],
   "source": [
    "n = int(input())\n",
    "n1=n//2 +1\n",
    "#print(n1)\n",
    "n2=n1-1\n",
    "j=1\n",
    "while j<=n1:\n",
    "    for i in range (1, n1-j+1, 1):\n",
    "        print(\" \",end='')\n",
    "    for i in range (1, 2*j , 1 ):\n",
    "        print('*',end='')\n",
    "    j=j+1\n",
    "    print()\n",
    "j=1\n",
    "\n",
    "while j<=n2:\n",
    "    \n",
    "    for i in range (1, j+1, 1):\n",
    "        print(\" \",end='')\n",
    "    for i in range (1,2*n2-j+1, 1 ):\n",
    "        print('*',end='')\n",
    "\n",
    "    j=j+1\n",
    "    print()"
   ]
  },
  {
   "cell_type": "code",
   "execution_count": 10,
   "metadata": {},
   "outputs": [
    {
     "name": "stdout",
     "output_type": "stream",
     "text": [
      "5\n",
      "  *\n",
      " ***\n",
      "*****\n",
      " ***\n",
      "  *\n",
      "   \n"
     ]
    }
   ],
   "source": [
    "n=int(input())\n",
    "i=1\n",
    "m=1\n",
    "n1=(n+1)//2\n",
    "n2=n1-1\n",
    "while i<=n1:                       #for spacing\n",
    "    space=1\n",
    "    j=1\n",
    "    while j<=n1-i:\n",
    "        print(\" \",end='')\n",
    "        j=j+1\n",
    "    p=1\n",
    "    while p<=2*i-1:                #for increasing printing of *\n",
    "        print(\"*\",end='')\n",
    "        p=p+1\n",
    "    print()\n",
    "    i=i+1  \n",
    "i=n2\n",
    "l=0\n",
    "while l<=n2:\n",
    "    k=1\n",
    "    while k<=(n2-i+1):                #for decreasing printing of ''\n",
    "        print(\" \",end='')\n",
    "        k=k+1\n",
    "    m=1\n",
    "    while m<=2*i-1:                #for decreasing printing of *\n",
    "        print(\"*\",end='')\n",
    "        m=m+1\n",
    "    print()\n",
    "    i=i-1\n",
    "    l=l+1"
   ]
  },
  {
   "cell_type": "code",
   "execution_count": 63,
   "metadata": {},
   "outputs": [
    {
     "ename": "SyntaxError",
     "evalue": "invalid syntax (<ipython-input-63-11c7b0602c35>, line 8)",
     "output_type": "error",
     "traceback": [
      "\u001b[1;36m  File \u001b[1;32m\"<ipython-input-63-11c7b0602c35>\"\u001b[1;36m, line \u001b[1;32m8\u001b[0m\n\u001b[1;33m    print(m,end='')\u001b[0m\n\u001b[1;37m    ^\u001b[0m\n\u001b[1;31mSyntaxError\u001b[0m\u001b[1;31m:\u001b[0m invalid syntax\n"
     ]
    }
   ],
   "source": [
    "n=int(input())\n",
    "j=1\n",
    "m=1\n",
    "z=(n*n//2 + 1\n",
    "for i in range (1, n, 1)\n",
    "        if i==1 or i==n\n",
    "            for m in range (1 , n+1, 1)\n",
    "                print(m,end='')\n",
    "                m=m+1\n",
    "                #print()\n",
    "        if i==2 or i==n-1:\n",
    "            for k in range (1, n+1,1):\n",
    "                print(z,end='')\n",
    "                z=z+1\n",
    "        print()"
   ]
  },
  {
   "cell_type": "code",
   "execution_count": 80,
   "metadata": {},
   "outputs": [
    {
     "name": "stdout",
     "output_type": "stream",
     "text": [
      "5\n",
      "12345\n",
      "1112131415\n",
      "2122232425\n",
      "1617181920\n",
      "678910\n"
     ]
    }
   ],
   "source": [
    "n=int(input())\n",
    "j=1\n",
    "m=1\n",
    "z=n*2 + 1\n",
    "v=n*4+1\n",
    "for i in range (1, n+1, 1): \n",
    "        if i==1 or i==n:\n",
    "            for x in range (1 , n+1, 1):\n",
    "                print(m,end='')\n",
    "                m=m+1             \n",
    "                #print()\n",
    "        if i==2 or i==n-1:\n",
    "            for k in range (1, n+1,1):\n",
    "                print(z,end='')\n",
    "                z=z+1\n",
    "        if i==3 or i==n-2:\n",
    "            for k in range (1, n+1,1):\n",
    "                print(v,end='')\n",
    "                v=v+1\n",
    "        print()"
   ]
  },
  {
   "cell_type": "code",
   "execution_count": null,
   "metadata": {},
   "outputs": [],
   "source": []
  },
  {
   "cell_type": "code",
   "execution_count": null,
   "metadata": {},
   "outputs": [],
   "source": []
  }
 ],
 "metadata": {
  "kernelspec": {
   "display_name": "Python 3",
   "language": "python",
   "name": "python3"
  },
  "language_info": {
   "codemirror_mode": {
    "name": "ipython",
    "version": 3
   },
   "file_extension": ".py",
   "mimetype": "text/x-python",
   "name": "python",
   "nbconvert_exporter": "python",
   "pygments_lexer": "ipython3",
   "version": "3.8.3"
  }
 },
 "nbformat": 4,
 "nbformat_minor": 4
}
